{
 "cells": [
  {
   "metadata": {},
   "cell_type": "code",
   "outputs": [],
   "execution_count": null,
   "source": [
    "# Install sentence-transformers\n",
    "!pip install sentence-transformers ipywidgets numpy"
   ],
   "id": "b92d2ffde99d38bd"
  },
  {
   "metadata": {},
   "cell_type": "code",
   "outputs": [],
   "execution_count": null,
   "source": [
    "import numpy as np\n",
    "from sentence_transformers import SentenceTransformer"
   ],
   "id": "f51fef26cd34535"
  },
  {
   "metadata": {},
   "cell_type": "code",
   "outputs": [],
   "execution_count": null,
   "source": "model = SentenceTransformer('paraphrase-multilingual-MiniLM-L12-v2', cache_folder='georgian_embedding_model')",
   "id": "d4b185eab1101388"
  },
  {
   "metadata": {},
   "cell_type": "code",
   "outputs": [],
   "execution_count": null,
   "source": "model = SentenceTransformer('georgian_embedding_model/models--sentence-transformers--paraphrase-multilingual-MiniLM-L12-v2/snapshots/86741b4e3f5cb7765a600d3a3d55a0f6a6cb443d')",
   "id": "96362af5a188d584"
  },
  {
   "metadata": {},
   "cell_type": "code",
   "outputs": [],
   "execution_count": null,
   "source": [
    "# Example Georgian text\n",
    "text = \"ეს არის ლამაზი მზის ჩასვლა მთებში.\"\n",
    "\n",
    "# Get embedding\n",
    "embedding = model.encode(text)\n",
    "\n",
    "print(\"Embedding shape:\", embedding.shape)\n",
    "print(\"Embedding vector:\", embedding)"
   ],
   "id": "6f86365a293792a9"
  },
  {
   "metadata": {},
   "cell_type": "code",
   "outputs": [],
   "execution_count": null,
   "source": [
    "# Your original text and query\n",
    "text = \"ეს არის ლამაზი მზის ჩასვლა მთებში.\"\n",
    "query = \"მთებში მზის ჩასვლა ძალიან ლამაზია.\"\n",
    "bad_query = \"ძალიან მიყვარს ძაღლები.\"\n",
    "neg_query = \"მთებში მზის ჩასვლა ძალიან მახინჯია.\"\n",
    "\n",
    "# Get embeddings\n",
    "embedding_text = model.encode(text)\n",
    "embedding_query = model.encode(query)\n",
    "embedding_bad_query = model.encode(bad_query)\n",
    "embedding_neg_query = model.encode(neg_query)\n",
    "\n",
    "# Cosine similarity\n",
    "def cosine_similarity(a, b):\n",
    "    return np.dot(a, b) / (np.linalg.norm(a) * np.linalg.norm(b))\n",
    "\n",
    "similarity = cosine_similarity(embedding_text, embedding_query)\n",
    "bad_similarity = cosine_similarity(embedding_text, embedding_bad_query)\n",
    "neg_similarity = cosine_similarity(embedding_text, embedding_neg_query)\n",
    "print(\"Cosine similarity:\", similarity)\n",
    "print(\"Bad query cosine similarity:\", bad_similarity)\n",
    "print(\"Negative query cosine similarity:\", neg_similarity)"
   ],
   "id": "9da4915846c8b713"
  },
  {
   "metadata": {},
   "cell_type": "code",
   "outputs": [],
   "execution_count": null,
   "source": "",
   "id": "5673b02c469308ca"
  }
 ],
 "metadata": {},
 "nbformat": 4,
 "nbformat_minor": 5
}
